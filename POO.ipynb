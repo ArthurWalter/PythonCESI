{
 "cells": [
  {
   "cell_type": "markdown",
   "metadata": {},
   "source": [
    "# les classes d'objets en Python"
   ]
  },
  {
   "cell_type": "code",
   "execution_count": 12,
   "metadata": {},
   "outputs": [
    {
     "name": "stdout",
     "output_type": "stream",
     "text": [
      "01/01/1900\n",
      "01/01/1900\n"
     ]
    }
   ],
   "source": [
    "class EtreHumain:\n",
    "    \n",
    "    def __init__(self,DateNaissance):\n",
    "        self.DateNaissance = DateNaissance\n",
    "    \n",
    "    def show(self):\n",
    "        print(self.DateNaissance)\n",
    "        \n",
    "arthur = EtreHumain(\"01/01/1900\")\n",
    "arthur.show()\n",
    "print(arthur.DateNaissance)\n",
    "\n"
   ]
  },
  {
   "cell_type": "code",
   "execution_count": 17,
   "metadata": {},
   "outputs": [
    {
     "name": "stdout",
     "output_type": "stream",
     "text": [
      "01/01/1900\n",
      "Flamenkuche\n"
     ]
    }
   ],
   "source": [
    "class EtreHumain:\n",
    "    \n",
    "    def __init__(self,DateNaissance):\n",
    "        self.__DateNaissance = DateNaissance\n",
    "    \n",
    "    def show(self):\n",
    "        print(self.__DateNaissance)\n",
    "\n",
    "class Francais(EtreHumain):\n",
    "    def SetNationality(self, nationality):\n",
    "        self.Nationality = nationality\n",
    "        \n",
    "class Alsacien(Francais):\n",
    "    def SetLanguage(self, dialecte):\n",
    "        self.Dialecte = dialecte\n",
    "        \n",
    "arthur = Alsacien(\"01/01/1900\")\n",
    "arthur.show()\n",
    "arthur.SetNationality(\"on est là\")\n",
    "arthur.SetLanguage(\"Flamenkuche\")\n",
    "print(arthur.Dialecte)"
   ]
  },
  {
   "cell_type": "code",
   "execution_count": 19,
   "metadata": {},
   "outputs": [
    {
     "name": "stdout",
     "output_type": "stream",
     "text": [
      "\u001b[94mToto\n",
      "\u001b[93mToto\n"
     ]
    }
   ],
   "source": [
    "class bcolors:\n",
    "    HEADER = '\\033[95m'\n",
    "    OKBLUE = '\\033[94m'\n",
    "    OKGREEN = '\\033[90m'\n",
    "    WARNING = '\\033[93m'\n",
    "    FAIL = '\\033[91m'\n",
    "    ENDC = '\\033[0m'\n",
    "    BOLD = '\\033[1m'\n",
    "    UNDERLINE = '\\033[4m'\n",
    "    \n",
    "print(bcolors.OKBLUE + \"Toto\")\n",
    "print(bcolors.WARNING + \"Toto\")"
   ]
  },
  {
   "cell_type": "code",
   "execution_count": 34,
   "metadata": {},
   "outputs": [
    {
     "name": "stdout",
     "output_type": "stream",
     "text": [
      "0.931307747591776\n",
      "c\n",
      "a\n",
      "a\n"
     ]
    }
   ],
   "source": [
    "import random, tkinter\n",
    "\n",
    "test = random.random()\n",
    "print(test)\n",
    "\n",
    "print(random.choice(['a','b','c']))\n",
    "print(random.choice(['a','b','c']))\n",
    "print(random.choice(['a','b','c']))"
   ]
  },
  {
   "cell_type": "code",
   "execution_count": null,
   "metadata": {},
   "outputs": [],
   "source": []
  }
 ],
 "metadata": {
  "kernelspec": {
   "display_name": "Python 3",
   "language": "python",
   "name": "python3"
  },
  "language_info": {
   "codemirror_mode": {
    "name": "ipython",
    "version": 3
   },
   "file_extension": ".py",
   "mimetype": "text/x-python",
   "name": "python",
   "nbconvert_exporter": "python",
   "pygments_lexer": "ipython3",
   "version": "3.8.5"
  }
 },
 "nbformat": 4,
 "nbformat_minor": 4
}
