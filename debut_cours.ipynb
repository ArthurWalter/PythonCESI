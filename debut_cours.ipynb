{
 "cells": [
  {
   "cell_type": "code",
   "execution_count": 1,
   "metadata": {},
   "outputs": [
    {
     "name": "stdout",
     "output_type": "stream",
     "text": [
      "hello world 2\n"
     ]
    }
   ],
   "source": [
    "print(\"hello world 2\")\n"
   ]
  },
  {
   "cell_type": "code",
   "execution_count": null,
   "metadata": {},
   "outputs": [],
   "source": [
    "\n",
    "\n"
   ]
  },
  {
   "cell_type": "code",
   "execution_count": 2,
   "metadata": {},
   "outputs": [],
   "source": [
    "ma_variable=\"string\"\n",
    "ma_variable = 1 \n",
    "\n"
   ]
  },
  {
   "cell_type": "code",
   "execution_count": 3,
   "metadata": {},
   "outputs": [
    {
     "name": "stdout",
     "output_type": "stream",
     "text": [
      "1000.0\n"
     ]
    }
   ],
   "source": [
    "milliers = 1000.0 #float\n",
    "print(str(milliers)) # str = change de type\n",
    "MonInteger = int(milliers)"
   ]
  },
  {
   "cell_type": "code",
   "execution_count": 4,
   "metadata": {},
   "outputs": [
    {
     "name": "stdin",
     "output_type": "stream",
     "text": [
      "press the enter key to exit. 123\n"
     ]
    },
    {
     "name": "stdout",
     "output_type": "stream",
     "text": [
      "123\n"
     ]
    }
   ],
   "source": [
    "MaVar = input(\"press the enter key to exit.\")\n",
    "print(MaVar)\n"
   ]
  },
  {
   "cell_type": "markdown",
   "metadata": {},
   "source": [
    "\n",
    "\n"
   ]
  },
  {
   "cell_type": "code",
   "execution_count": 5,
   "metadata": {},
   "outputs": [
    {
     "name": "stdout",
     "output_type": "stream",
     "text": [
      "['et un', 'et deux']\n"
     ]
    }
   ],
   "source": [
    "ma_liste=['et un', 'et deux']\n",
    "print(ma_liste)\n"
   ]
  },
  {
   "cell_type": "code",
   "execution_count": 6,
   "metadata": {},
   "outputs": [
    {
     "name": "stdout",
     "output_type": "stream",
     "text": [
      "this is one\n",
      "dict_keys(['one', 2])\n",
      "dict_values(['this is one', 'this is two'])\n"
     ]
    }
   ],
   "source": [
    "dict = {}\n",
    "dict['one'] = \"this is one\"\n",
    "dict[2] = \"this is two\"\n",
    "\n",
    "print(dict['one'])\n",
    "print(dict.keys())\n",
    "print(dict.values())\n"
   ]
  },
  {
   "cell_type": "code",
   "execution_count": 7,
   "metadata": {},
   "outputs": [
    {
     "name": "stdout",
     "output_type": "stream",
     "text": [
      "un\n",
      "\n",
      "arf\n",
      "\n",
      "\n",
      "arf\n",
      "deux\n",
      "\n",
      "arf\n",
      "\n",
      "\n",
      "arf\n",
      "ouais\n",
      "\n",
      "arf\n",
      "\n",
      "\n",
      "arf\n",
      "trois\n",
      "\n",
      "arf\n",
      "\n",
      "\n",
      "arf\n",
      "s\n"
     ]
    }
   ],
   "source": [
    "mystring=\"ouais\"\n",
    "\n",
    "contenu = open(\"C:/Users/arthu/walter.arthur_python/walter.arthur_python/maliste.txt\",\"r\")\n",
    "for ligne in contenu:\n",
    "    print(ligne)\n",
    "    print(\"arf\")\n",
    "    \n",
    "print(mystring[4])"
   ]
  },
  {
   "cell_type": "code",
   "execution_count": 8,
   "metadata": {},
   "outputs": [
    {
     "name": "stdout",
     "output_type": "stream",
     "text": [
      "ouais c'est bien 100\n",
      "y\n"
     ]
    }
   ],
   "source": [
    "var = 100\n",
    "if(var==100): print(\"ouais c'est bien 100\")\n",
    "    \n",
    "if(var < 1200):\n",
    "    print('y')\n",
    "elif(var < 9000):\n",
    "    print(\"euh ok\")\n",
    "else:\n",
    "    print(\"euh bah ok²\")\n",
    "    "
   ]
  },
  {
   "cell_type": "code",
   "execution_count": 9,
   "metadata": {},
   "outputs": [
    {
     "name": "stdout",
     "output_type": "stream",
     "text": [
      "ça marche\n"
     ]
    }
   ],
   "source": [
    "with open(\"C:/Users/arthu/walter.arthur_python/walter.arthur_python/maliste.txt\",\"r\", encoding='utf-8') as infile:\n",
    "    for line in infile\n",
    "        if line.startswith('ouais'):\n",
    "            print(\"ça marche\")"
   ]
  },
  {
   "cell_type": "markdown",
   "metadata": {},
   "source": [
    "# FOR"
   ]
  },
  {
   "cell_type": "code",
   "execution_count": 10,
   "metadata": {},
   "outputs": [
    {
     "name": "stdout",
     "output_type": "stream",
     "text": [
      "current letter : P\n",
      "current letter : y\n",
      "current letter : t\n",
      "current letter : h\n",
      "current letter : o\n",
      "current letter : n\n"
     ]
    }
   ],
   "source": [
    "for letter in 'Python':\n",
    "    print('current letter :', letter)"
   ]
  },
  {
   "cell_type": "code",
   "execution_count": 11,
   "metadata": {},
   "outputs": [
    {
     "name": "stdout",
     "output_type": "stream",
     "text": [
      "Current Fruit :  banana\n",
      "Current Fruit :  apple\n",
      "Current Fruit :  mango\n",
      "ouais\n"
     ]
    }
   ],
   "source": [
    "fruits=['banana','apple','mango']\n",
    "for fruit in fruits:\n",
    "    print('Current Fruit : ',fruit)\n",
    "print('ouais')\n"
   ]
  },
  {
   "cell_type": "code",
   "execution_count": 12,
   "metadata": {},
   "outputs": [
    {
     "name": "stdout",
     "output_type": "stream",
     "text": [
      "the count is : 0\n",
      "the count is : 1\n",
      "the count is : 2\n",
      "the count is : 3\n",
      "the count is : 4\n",
      "the count is : 5\n",
      "the count is : 6\n",
      "the count is : 7\n",
      "the count is : 8\n",
      "ouais²\n"
     ]
    }
   ],
   "source": [
    "count  = 0\n",
    "while(count<9):\n",
    "    print('the count is :',count)\n",
    "    count +=1\n",
    "print(\"ouais²\")"
   ]
  },
  {
   "cell_type": "markdown",
   "metadata": {},
   "source": [
    "# Les fonctions"
   ]
  },
  {
   "cell_type": "code",
   "execution_count": 13,
   "metadata": {},
   "outputs": [
    {
     "name": "stdout",
     "output_type": "stream",
     "text": [
      "Bonjour : Arthur\n"
     ]
    }
   ],
   "source": [
    "def bonjour_vous(nom):\n",
    "    print(\"Bonjour :\",nom)\n",
    "    return\n",
    "\n",
    "bonjour_vous('Arthur')"
   ]
  }
 ],
 "metadata": {
  "kernelspec": {
   "display_name": "Python 3",
   "language": "python",
   "name": "python3"
  },
  "language_info": {
   "codemirror_mode": {
    "name": "ipython",
    "version": 3
   },
   "file_extension": ".py",
   "mimetype": "text/x-python",
   "name": "python",
   "nbconvert_exporter": "python",
   "pygments_lexer": "ipython3",
   "version": "3.8.5"
  }
 },
 "nbformat": 4,
 "nbformat_minor": 4
}
